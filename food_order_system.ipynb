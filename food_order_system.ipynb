{
 "cells": [
  {
   "cell_type": "code",
   "execution_count": 70,
   "metadata": {},
   "outputs": [
    {
     "name": "stdout",
     "output_type": "stream",
     "text": [
      "Welcome to makanan sedap restaurant\n",
      "{'Burger': 8, 'Cookies': 4, 'Ice Cream': 2}\n",
      "Your order: 2 Burger - Total price: $16\n",
      "{'Burger': 8, 'Cookies': 4, 'Ice Cream': 2}\n",
      "Your order: 1 Cookies - Total price: $4\n",
      "{'Burger': 8, 'Cookies': 4, 'Ice Cream': 2}\n",
      "Your order: 3 Ice Cream - Total price: $6\n",
      "{'Burger': 8, 'Cookies': 4, 'Ice Cream': 2}\n",
      "Burger: Quantity - 2, Total Price - $16.00\n",
      "Cookies: Quantity - 1, Total Price - $4.00\n",
      "Ice Cream: Quantity - 3, Total Price - $6.00\n",
      "Total Order Price: $26\n",
      "Selamat Datang\n"
     ]
    }
   ],
   "source": [
    "products = {\"Burger\": 8, \"Cookies\": 4, \"Ice Cream\": 2}\n",
    "\n",
    "order_summary = {}\n",
    "\n",
    "print(\"Welcome to makanan sedap restaurant\")\n",
    "\n",
    "while True:\n",
    "    print(products)\n",
    "    choice = input('Please enter the product you want to order (type \"quit\" to exit).')\n",
    "    if choice == \"quit\":\n",
    "        total_price = 0\n",
    "        for product, details in order_summary.items():\n",
    "                print(f\"{product}: Quantity - {details['quantity']}, Total Price - ${details['total_price_per_item']:.2f}\")\n",
    "                total_price += details['total_price_per_item']\n",
    "        print(f\"Total Order Price: ${total_price}\")\n",
    "        print(\"Selamat Datang\")\n",
    "        break;\n",
    "    \n",
    "    elif choice in list(products.keys()):\n",
    "        quantity = int(input(f\"How many {choice}s would you want?\"))\n",
    "        total_price_per_item = products[choice] *quantity\n",
    "\n",
    "        order_summary[choice] = {\"quantity\": quantity, \"total_price_per_item\": total_price_per_item}\n",
    "        print(f\"Your order: {quantity} {choice} - Total price: ${total_price_per_item}\")\n",
    "    else:\n",
    "        print(\"Invalid choice. Please enter the option available from the menu\")"
   ]
  },
  {
   "cell_type": "markdown",
   "metadata": {},
   "source": [
    "This code below is an example of how to use test data to save manual input time"
   ]
  },
  {
   "cell_type": "code",
   "execution_count": 75,
   "metadata": {},
   "outputs": [],
   "source": [
    "test_data = [(\"Burger\", 2), (\"Cookies\", 1), (\"Ice Cream\", 3), (\"quit\", None)]"
   ]
  },
  {
   "cell_type": "code",
   "execution_count": 76,
   "metadata": {},
   "outputs": [
    {
     "name": "stdout",
     "output_type": "stream",
     "text": [
      "Welcome to makanan sedap restaurant\n",
      "{'Burger': 8, 'Cookies': 4, 'Ice Cream': 2}\n",
      "Your order: 2 Burger - Total price: $16\n",
      "{'Burger': 8, 'Cookies': 4, 'Ice Cream': 2}\n",
      "Your order: 1 Cookies - Total price: $4\n",
      "{'Burger': 8, 'Cookies': 4, 'Ice Cream': 2}\n",
      "Your order: 3 Ice Cream - Total price: $6\n",
      "{'Burger': 8, 'Cookies': 4, 'Ice Cream': 2}\n",
      "Burger: Quantity - 2, Total Price - $16.00\n",
      "Cookies: Quantity - 1, Total Price - $4.00\n",
      "Ice Cream: Quantity - 3, Total Price - $6.00\n",
      "Total Order Price: $26\n",
      "Selamat Datang\n"
     ]
    }
   ],
   "source": [
    "products = {\"Burger\": 8, \"Cookies\": 4, \"Ice Cream\": 2}\n",
    "\n",
    "order_summary = {}\n",
    "\n",
    "print(\"Welcome to makanan sedap restaurant\")\n",
    "\n",
    "while True:\n",
    "    for choice, quantity in test_data: # to loop through all test data to simulate user input\n",
    "        print(products)\n",
    "        # temporarily disable inputs\n",
    "        # choice = input('Please enter the product you want to order (type \"quit\" to exit).')\n",
    "        \n",
    "        if choice == \"quit\":\n",
    "            total_price = 0\n",
    "            for product, details in order_summary.items():\n",
    "                    print(f\"{product}: Quantity - {details['quantity']}, Total Price - ${details['total_price_per_item']:.2f}\")\n",
    "                    total_price += details['total_price_per_item']\n",
    "            print(f\"Total Order Price: ${total_price}\")\n",
    "            print(\"Selamat Datang\")\n",
    "            break;\n",
    "        \n",
    "        elif choice in list(products.keys()):\n",
    "            # quantity = int(input(f\"How many {choice}s would you want?\"))\n",
    "            total_price_per_item = products[choice] *quantity\n",
    "\n",
    "            order_summary[choice] = {\"quantity\": quantity, \"total_price_per_item\": total_price_per_item}\n",
    "            print(f\"Your order: {quantity} {choice} - Total price: ${total_price_per_item}\")\n",
    "        else:\n",
    "            print(\"Invalid choice. Please enter the option available from the menu\")\n",
    "    break # after looping through all test data, break out of while loop\n"
   ]
  }
 ],
 "metadata": {
  "kernelspec": {
   "display_name": "Python 3",
   "language": "python",
   "name": "python3"
  },
  "language_info": {
   "codemirror_mode": {
    "name": "ipython",
    "version": 3
   },
   "file_extension": ".py",
   "mimetype": "text/x-python",
   "name": "python",
   "nbconvert_exporter": "python",
   "pygments_lexer": "ipython3",
   "version": "3.11.9"
  }
 },
 "nbformat": 4,
 "nbformat_minor": 2
}
