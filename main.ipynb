{
 "cells": [
  {
   "cell_type": "code",
   "execution_count": 11,
   "metadata": {},
   "outputs": [
    {
     "name": "stdout",
     "output_type": "stream",
     "text": [
      "LING\n",
      "Great! Let's do it again.\n",
      "xiao shuai\n",
      "Program End\n"
     ]
    }
   ],
   "source": [
    "while True:\n",
    "    name = input(\"PLS enter your name\")\n",
    "    print(name)\n",
    "    users_choice = input(\"Do you want to continue? ('YES / No')\")\n",
    "    if users_choice == \"YES\":\n",
    "        print(\"Great! Let's do it again.\")\n",
    "    else:\n",
    "        print(\"Program End\")\n",
    "        break"
   ]
  },
  {
   "cell_type": "code",
   "execution_count": null,
   "metadata": {},
   "outputs": [],
   "source": []
  }
 ],
 "metadata": {
  "kernelspec": {
   "display_name": "base",
   "language": "python",
   "name": "python3"
  },
  "language_info": {
   "codemirror_mode": {
    "name": "ipython",
    "version": 3
   },
   "file_extension": ".py",
   "mimetype": "text/x-python",
   "name": "python",
   "nbconvert_exporter": "python",
   "pygments_lexer": "ipython3",
   "version": "3.9.7"
  }
 },
 "nbformat": 4,
 "nbformat_minor": 2
}
